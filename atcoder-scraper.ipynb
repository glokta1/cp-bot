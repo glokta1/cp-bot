{
 "cells": [
  {
   "cell_type": "code",
   "execution_count": 2,
   "id": "b40552f6",
   "metadata": {},
   "outputs": [],
   "source": [
    "from selenium import webdriver\n",
    "from bs4 import BeautifulSoup\n",
    "import datetime\n",
    "import time"
   ]
  },
  {
   "cell_type": "code",
   "execution_count": 3,
   "id": "7df51806",
   "metadata": {},
   "outputs": [],
   "source": [
    "# use Firefox browser\n",
    "driver = webdriver.Firefox()\n",
    "driver.get(\"https://atcoder.jp/contests/\")\n",
    "\n",
    "# wait for the page to load\n",
    "time.sleep(15)\n",
    "\n",
    "# get the page source\n",
    "html = driver.page_source\n",
    "\n",
    "# parse the page source using BeautifulSoup\n",
    "soup = BeautifulSoup(html, 'lxml')"
   ]
  },
  {
   "cell_type": "code",
   "execution_count": 4,
   "id": "7b3aa367",
   "metadata": {},
   "outputs": [],
   "source": [
    "# get list of upcoming contests\n",
    "upcoming_contests = soup.find(\"div\", \"col-lg-9 col-md-8\").find(\"div\", id=\"contest-table-upcoming\").div.div.tbody.find_all(\"tr\")"
   ]
  },
  {
   "cell_type": "code",
   "execution_count": 5,
   "id": "25a59f55",
   "metadata": {},
   "outputs": [
    {
     "data": {
      "text/plain": [
       "<tr>\n",
       "<td class=\"text-center\"><a href=\"http://www.timeanddate.com/worldclock/fixedtime.html?iso=20230204T2100&amp;p1=248\" target=\"blank\"><time class=\"fixtime-full\">2023-02-04(Sat) 17:30</time></a></td>\n",
       "<td>\n",
       "<span aria-hidden=\"true\" data-original-title=\"Algorithm\" data-placement=\"top\" data-toggle=\"tooltip\" title=\"\">Ⓐ</span>\n",
       "<span class=\"user-blue\">◉</span>\n",
       "<a href=\"/contests/abc288\">Toyota Programming Contest 2023 Spring Qual A（AtCoder Beginner Contest 288）</a>\n",
       "</td>\n",
       "<td class=\"text-center\">01:40</td>\n",
       "<td class=\"text-center\"> - 1999</td>\n",
       "</tr>"
      ]
     },
     "execution_count": 5,
     "metadata": {},
     "output_type": "execute_result"
    }
   ],
   "source": [
    "upcoming_contests[0]"
   ]
  },
  {
   "cell_type": "code",
   "execution_count": 34,
   "id": "8fb6e145",
   "metadata": {},
   "outputs": [],
   "source": [
    "def get_upcoming_contests():\n",
    "    contests_list = []\n",
    "\n",
    "    # get contest data\n",
    "    for contest in upcoming_contests:\n",
    "        col = contest.find_all(\"td\")\n",
    "        raw_name = col[1].get_text()\n",
    "        name_length = len(raw_name)\n",
    "        name = raw_name[5:].strip(' \\n')\n",
    "        print(name)\n",
    "\n",
    "        baseURL = 'https://atcoder.jp'\n",
    "        slug = col[1].a.get(\"href\")\n",
    "        link = baseURL + slug\n",
    "\n",
    "        dt = col[0].get_text()\n",
    "        dt_fmt = \"%Y-%m-%d(%a) %H:%M\"\n",
    "        dt = datetime.datetime.strptime(dt, dt_fmt)\n",
    "        unix_time = time.mktime(dt.timetuple())\n",
    "        start_time = int(unix_time)\n",
    "\n",
    "        duration = col[2].get_text()\n",
    "\n",
    "    #     print(f'Name is of type {type(name)}')\n",
    "    #     print(f'link is of type {type(link)}')\n",
    "    #     print(f'start_time is of type {type(start_time)}')\n",
    "    #     print(f'Duration is of type {type(duration)}')\n",
    "        contest_json = {\n",
    "            'name': name,\n",
    "            'link': link,\n",
    "            'startTime': start_time,\n",
    "            'duration': duration\n",
    "        }\n",
    "\n",
    "        contests_list.extend([name, link, start_time, duration])\n",
    "        \n",
    "    return contests_list"
   ]
  },
  {
   "cell_type": "code",
   "execution_count": 35,
   "id": "6343b41b",
   "metadata": {},
   "outputs": [
    {
     "name": "stdout",
     "output_type": "stream",
     "text": [
      "Toyota Programming Contest 2023 Spring Qual A（AtCoder Beginner Contest 288）\n",
      "Ｓｋｙ Inc, Programming Contest 2023（AtCoder Beginner Contest 289）\n",
      "AtCoder Grand Contest 061\n",
      "Toyota Programming Contest 2023 Spring Qual B（AtCoder Beginner Contest 290）\n",
      "AtCoder Regular Contest 156\n"
     ]
    },
    {
     "data": {
      "text/plain": [
       "['Toyota Programming Contest 2023 Spring Qual A（AtCoder Beginner Contest 288）',\n",
       " 'https://atcoder.jp/contests/abc288',\n",
       " 1675512000,\n",
       " '01:40',\n",
       " 'Ｓｋｙ Inc, Programming Contest 2023（AtCoder Beginner Contest 289）',\n",
       " 'https://atcoder.jp/contests/abc289',\n",
       " 1676116800,\n",
       " '01:40',\n",
       " 'AtCoder Grand Contest 061',\n",
       " 'https://atcoder.jp/contests/agc061',\n",
       " 1676203200,\n",
       " '03:00',\n",
       " 'Toyota Programming Contest 2023 Spring Qual B（AtCoder Beginner Contest 290）',\n",
       " 'https://atcoder.jp/contests/abc290',\n",
       " 1676808000,\n",
       " '01:40',\n",
       " 'AtCoder Regular Contest 156',\n",
       " 'https://atcoder.jp/contests/arc156',\n",
       " 1677326400,\n",
       " '02:00']"
      ]
     },
     "execution_count": 35,
     "metadata": {},
     "output_type": "execute_result"
    }
   ],
   "source": [
    "get_upcoming_contests()"
   ]
  },
  {
   "cell_type": "code",
   "execution_count": 8,
   "id": "9ff727a8",
   "metadata": {},
   "outputs": [
    {
     "data": {
      "text/plain": [
       "[<tr>\n",
       " <td class=\"text-center\"><a href=\"http://www.timeanddate.com/worldclock/fixedtime.html?iso=20230204T2100&amp;p1=248\" target=\"blank\"><time class=\"fixtime-full\">2023-02-04(Sat) 17:30</time></a></td>\n",
       " <td>\n",
       " <span aria-hidden=\"true\" data-original-title=\"Algorithm\" data-placement=\"top\" data-toggle=\"tooltip\" title=\"\">Ⓐ</span>\n",
       " <span class=\"user-blue\">◉</span>\n",
       " <a href=\"/contests/abc288\">Toyota Programming Contest 2023 Spring Qual A（AtCoder Beginner Contest 288）</a>\n",
       " </td>\n",
       " <td class=\"text-center\">01:40</td>\n",
       " <td class=\"text-center\"> - 1999</td>\n",
       " </tr>,\n",
       " <tr>\n",
       " <td class=\"text-center\"><a href=\"http://www.timeanddate.com/worldclock/fixedtime.html?iso=20230211T2100&amp;p1=248\" target=\"blank\"><time class=\"fixtime-full\">2023-02-11(Sat) 17:30</time></a></td>\n",
       " <td>\n",
       " <span aria-hidden=\"true\" data-original-title=\"Algorithm\" data-placement=\"top\" data-toggle=\"tooltip\" title=\"\">Ⓐ</span>\n",
       " <span class=\"user-blue\">◉</span>\n",
       " <a href=\"/contests/abc289\">Ｓｋｙ Inc, Programming Contest 2023（AtCoder Beginner Contest 289）</a>\n",
       " </td>\n",
       " <td class=\"text-center\">01:40</td>\n",
       " <td class=\"text-center\"> - 1999</td>\n",
       " </tr>,\n",
       " <tr>\n",
       " <td class=\"text-center\"><a href=\"http://www.timeanddate.com/worldclock/fixedtime.html?iso=20230212T2100&amp;p1=248\" target=\"blank\"><time class=\"fixtime-full\">2023-02-12(Sun) 17:30</time></a></td>\n",
       " <td>\n",
       " <span aria-hidden=\"true\" data-original-title=\"Algorithm\" data-placement=\"top\" data-toggle=\"tooltip\" title=\"\">Ⓐ</span>\n",
       " <span class=\"user-red\">◉</span>\n",
       " <a href=\"/contests/agc061\">AtCoder Grand Contest 061</a>\n",
       " </td>\n",
       " <td class=\"text-center\">03:00</td>\n",
       " <td class=\"text-center\">1200 - </td>\n",
       " </tr>,\n",
       " <tr>\n",
       " <td class=\"text-center\"><a href=\"http://www.timeanddate.com/worldclock/fixedtime.html?iso=20230219T2100&amp;p1=248\" target=\"blank\"><time class=\"fixtime-full\">2023-02-19(Sun) 17:30</time></a></td>\n",
       " <td>\n",
       " <span aria-hidden=\"true\" data-original-title=\"Algorithm\" data-placement=\"top\" data-toggle=\"tooltip\" title=\"\">Ⓐ</span>\n",
       " <span class=\"user-blue\">◉</span>\n",
       " <a href=\"/contests/abc290\">Toyota Programming Contest 2023 Spring Qual B（AtCoder Beginner Contest 290）</a>\n",
       " </td>\n",
       " <td class=\"text-center\">01:40</td>\n",
       " <td class=\"text-center\"> - 1999</td>\n",
       " </tr>,\n",
       " <tr>\n",
       " <td class=\"text-center\"><a href=\"http://www.timeanddate.com/worldclock/fixedtime.html?iso=20230225T2100&amp;p1=248\" target=\"blank\"><time class=\"fixtime-full\">2023-02-25(Sat) 17:30</time></a></td>\n",
       " <td>\n",
       " <span aria-hidden=\"true\" data-original-title=\"Algorithm\" data-placement=\"top\" data-toggle=\"tooltip\" title=\"\">Ⓐ</span>\n",
       " <span class=\"user-orange\">◉</span>\n",
       " <a href=\"/contests/arc156\">AtCoder Regular Contest 156</a>\n",
       " </td>\n",
       " <td class=\"text-center\">02:00</td>\n",
       " <td class=\"text-center\"> - 2799</td>\n",
       " </tr>]"
      ]
     },
     "execution_count": 8,
     "metadata": {},
     "output_type": "execute_result"
    }
   ],
   "source": [
    "upcoming_contests"
   ]
  },
  {
   "cell_type": "code",
   "execution_count": null,
   "id": "a754628e",
   "metadata": {},
   "outputs": [],
   "source": [
    "with open('contests.csv', w) as f:\n",
    "    writer = csv.writer(f)\n",
    "    writer.writerow()"
   ]
  }
 ],
 "metadata": {
  "kernelspec": {
   "display_name": "Python 3 (ipykernel)",
   "language": "python",
   "name": "python3"
  },
  "language_info": {
   "codemirror_mode": {
    "name": "ipython",
    "version": 3
   },
   "file_extension": ".py",
   "mimetype": "text/x-python",
   "name": "python",
   "nbconvert_exporter": "python",
   "pygments_lexer": "ipython3",
   "version": "3.10.8"
  }
 },
 "nbformat": 4,
 "nbformat_minor": 5
}
