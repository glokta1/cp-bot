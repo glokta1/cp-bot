{
 "cells": [
  {
   "cell_type": "code",
   "execution_count": 24,
   "id": "c0d4c050",
   "metadata": {},
   "outputs": [],
   "source": [
    "from selenium import webdriver\n",
    "from bs4 import BeautifulSoup\n",
    "import time\n",
    "import datetime"
   ]
  },
  {
   "cell_type": "code",
   "execution_count": 2,
   "id": "43a49dfc",
   "metadata": {},
   "outputs": [],
   "source": [
    "# use Firefox browser\n",
    "driver = webdriver.Firefox()\n",
    "driver.get(\"https://www.codechef.com/contests?itm_medium=navmenu&itm_campaign=allcontests\")\n",
    "\n",
    "# wait for the page to load\n",
    "time.sleep(30)\n",
    "\n",
    "# get the page source\n",
    "html = driver.page_source\n",
    "\n",
    "# parse the page source using BeautifulSoup\n",
    "soup = BeautifulSoup(html, 'lxml')\n",
    "\n",
    "contests = soup.find_all('div', class_='col-md-12')\n",
    "\n",
    "for contest in contests:\n",
    "    title = contest.find('a', class_='problemname').get_text()\n",
    "    start_time = contest.find('div', class_='start_date_time').get_text()\n",
    "    end_time = contest.find('div', class_='end_date_time').get_text()\n",
    "    print(title, start_time, end_time)\n",
    "    \n",
    "# close the browser\n",
    "driver.close()"
   ]
  },
  {
   "cell_type": "code",
   "execution_count": null,
   "id": "f4302753",
   "metadata": {},
   "outputs": [],
   "source": []
  },
  {
   "cell_type": "code",
   "execution_count": 3,
   "id": "44299c5f",
   "metadata": {},
   "outputs": [],
   "source": [
    "upcoming = soup.find_all(\"div\", \"_dataTable__container_1qngn_369\")[1].div.find(\"div\", \"jss14\").table.tbody"
   ]
  },
  {
   "cell_type": "code",
   "execution_count": 6,
   "id": "2df3c3af",
   "metadata": {},
   "outputs": [
    {
     "data": {
      "text/plain": [
       "<tbody class=\"MuiTableBody-root\"><tr class=\"MuiTableRow-root jss57 undefined jss59 jss55 MuiTableRow-hover\" data-testid=\"MUIDataTableBodyRow-0\" id=\"MUIDataTableBodyRow-0\"><td class=\"MuiTableCell-root MuiTableCell-body jss61 jss68 jss72\" data-colindex=\"0\" data-testid=\"MuiDataTableBodyCell-0-0\"><div class=\"jss61 jss62 jss65 jss66\">Code</div><div class=\"jss61 jss66\"><p>COOK146</p></div></td><td class=\"MuiTableCell-root MuiTableCell-body jss61 jss68 jss72 _name__cell_1qngn_439\" data-colindex=\"1\" data-testid=\"MuiDataTableBodyCell-1-0\"><div class=\"jss61 jss62 jss65 jss66 _name__cell_1qngn_439\">Name</div><div class=\"jss61 jss66 _name__cell_1qngn_439\"><a href=\"https://www.codechef.com/COOK146\"><span>February Cook-Off 2023 (Rated for All)</span></a></div></td><td class=\"MuiTableCell-root MuiTableCell-body jss61 jss68 jss72 _start-data__cell_1qngn_442\" data-colindex=\"2\" data-testid=\"MuiDataTableBodyCell-2-0\"><div class=\"lastColumn jss61 jss62 jss65 jss66 _start-data__cell_1qngn_442\">Start</div><div class=\"jss61 jss66 _start-data__cell_1qngn_442\"><div><div class=\"_start-date__container_1qngn_388\"><p>08 Feb 2023</p><p class=\"_grey__text_1qngn_393\">Wed 20:00</p></div></div></div></td><td class=\"MuiTableCell-root MuiTableCell-body jss61 jss68 jss72\" data-colindex=\"3\" data-testid=\"MuiDataTableBodyCell-3-0\"><div class=\"jss61 jss62 jss65 jss66\">Duration</div><div class=\"jss61 jss66\"><div class=\"_duration__container_1qngn_396\"><p>2 Hrs</p><p>30 Min</p></div></div></td><td class=\"MuiTableCell-root MuiTableCell-body jss61 jss68 jss72\" data-colindex=\"4\" data-testid=\"MuiDataTableBodyCell-4-0\"><div class=\"jss61 jss62 jss65 jss66\">Starts in</div><div class=\"jss61 jss66\"><div class=\"_timer__container_1qngn_518\"><p>5 Days</p><p>21 Hrs</p></div></div></td><td class=\"MuiTableCell-root MuiTableCell-body jss61 jss68 jss72 _reminder__cell_1qngn_445\" data-colindex=\"5\" data-testid=\"MuiDataTableBodyCell-5-0\"><div class=\"jss61 jss62 jss65 jss66 _reminder__cell_1qngn_445\"> </div><div class=\"jss61 jss66 _reminder__cell_1qngn_445\"><button class=\"_reminder-icon__container_1qngn_400\" title=\"Set Reminder\" type=\"button\"><img alt=\"bell\" src=\"https://cdn.codechef.com/images/icons/bell.svg\"/></button></div></td></tr><tr class=\"MuiTableRow-root jss57 undefined jss59 jss55 MuiTableRow-hover\" data-testid=\"MUIDataTableBodyRow-1\" id=\"MUIDataTableBodyRow-1\"><td class=\"MuiTableCell-root MuiTableCell-body jss61 jss68 jss72\" data-colindex=\"0\" data-testid=\"MuiDataTableBodyCell-0-1\"><div class=\"jss61 jss62 jss65 jss66\">Code</div><div class=\"jss61 jss66\"><p>START77</p></div></td><td class=\"MuiTableCell-root MuiTableCell-body jss61 jss68 jss72 _name__cell_1qngn_439\" data-colindex=\"1\" data-testid=\"MuiDataTableBodyCell-1-1\"><div class=\"jss61 jss62 jss65 jss66 _name__cell_1qngn_439\">Name</div><div class=\"jss61 jss66 _name__cell_1qngn_439\"><a href=\"https://www.codechef.com/START77\"><span>Starters 77</span></a></div></td><td class=\"MuiTableCell-root MuiTableCell-body jss61 jss68 jss72 _start-data__cell_1qngn_442\" data-colindex=\"2\" data-testid=\"MuiDataTableBodyCell-2-1\"><div class=\"lastColumn jss61 jss62 jss65 jss66 _start-data__cell_1qngn_442\">Start</div><div class=\"jss61 jss66 _start-data__cell_1qngn_442\"><div><div class=\"_start-date__container_1qngn_388\"><p>15 Feb 2023</p><p class=\"_grey__text_1qngn_393\">Wed 20:00</p></div></div></div></td><td class=\"MuiTableCell-root MuiTableCell-body jss61 jss68 jss72\" data-colindex=\"3\" data-testid=\"MuiDataTableBodyCell-3-1\"><div class=\"jss61 jss62 jss65 jss66\">Duration</div><div class=\"jss61 jss66\"><div class=\"_duration__container_1qngn_396\"><p>3 Hrs</p></div></div></td><td class=\"MuiTableCell-root MuiTableCell-body jss61 jss68 jss72\" data-colindex=\"4\" data-testid=\"MuiDataTableBodyCell-4-1\"><div class=\"jss61 jss62 jss65 jss66\">Starts in</div><div class=\"jss61 jss66\"><div class=\"_timer__container_1qngn_518\"><p>12 Days</p><p>21 Hrs</p></div></div></td><td class=\"MuiTableCell-root MuiTableCell-body jss61 jss68 jss72 _reminder__cell_1qngn_445\" data-colindex=\"5\" data-testid=\"MuiDataTableBodyCell-5-1\"><div class=\"jss61 jss62 jss65 jss66 _reminder__cell_1qngn_445\"> </div><div class=\"jss61 jss66 _reminder__cell_1qngn_445\"><button class=\"_reminder-icon__container_1qngn_400\" title=\"Set Reminder\" type=\"button\"><img alt=\"bell\" src=\"https://cdn.codechef.com/images/icons/bell.svg\"/></button></div></td></tr><tr class=\"MuiTableRow-root jss57 undefined jss59 jss55 MuiTableRow-hover\" data-testid=\"MUIDataTableBodyRow-2\" id=\"MUIDataTableBodyRow-2\"><td class=\"MuiTableCell-root MuiTableCell-body jss61 jss68 jss72\" data-colindex=\"0\" data-testid=\"MuiDataTableBodyCell-0-2\"><div class=\"jss61 jss62 jss65 jss66\">Code</div><div class=\"jss61 jss66\"><p>START78</p></div></td><td class=\"MuiTableCell-root MuiTableCell-body jss61 jss68 jss72 _name__cell_1qngn_439\" data-colindex=\"1\" data-testid=\"MuiDataTableBodyCell-1-2\"><div class=\"jss61 jss62 jss65 jss66 _name__cell_1qngn_439\">Name</div><div class=\"jss61 jss66 _name__cell_1qngn_439\"><a href=\"https://www.codechef.com/START78\"><span>Starters 78</span></a></div></td><td class=\"MuiTableCell-root MuiTableCell-body jss61 jss68 jss72 _start-data__cell_1qngn_442\" data-colindex=\"2\" data-testid=\"MuiDataTableBodyCell-2-2\"><div class=\"lastColumn jss61 jss62 jss65 jss66 _start-data__cell_1qngn_442\">Start</div><div class=\"jss61 jss66 _start-data__cell_1qngn_442\"><div><div class=\"_start-date__container_1qngn_388\"><p>22 Feb 2023</p><p class=\"_grey__text_1qngn_393\">Wed 20:00</p></div></div></div></td><td class=\"MuiTableCell-root MuiTableCell-body jss61 jss68 jss72\" data-colindex=\"3\" data-testid=\"MuiDataTableBodyCell-3-2\"><div class=\"jss61 jss62 jss65 jss66\">Duration</div><div class=\"jss61 jss66\"><div class=\"_duration__container_1qngn_396\"><p>3 Hrs</p></div></div></td><td class=\"MuiTableCell-root MuiTableCell-body jss61 jss68 jss72\" data-colindex=\"4\" data-testid=\"MuiDataTableBodyCell-4-2\"><div class=\"jss61 jss62 jss65 jss66\">Starts in</div><div class=\"jss61 jss66\"><div class=\"_timer__container_1qngn_518\"><p>19 Days</p><p>21 Hrs</p></div></div></td><td class=\"MuiTableCell-root MuiTableCell-body jss61 jss68 jss72 _reminder__cell_1qngn_445\" data-colindex=\"5\" data-testid=\"MuiDataTableBodyCell-5-2\"><div class=\"jss61 jss62 jss65 jss66 _reminder__cell_1qngn_445\"> </div><div class=\"jss61 jss66 _reminder__cell_1qngn_445\"><button class=\"_reminder-icon__container_1qngn_400\" title=\"Set Reminder\" type=\"button\"><img alt=\"bell\" src=\"https://cdn.codechef.com/images/icons/bell.svg\"/></button></div></td></tr><tr class=\"MuiTableRow-root jss57 undefined jss59 jss55 MuiTableRow-hover\" data-testid=\"MUIDataTableBodyRow-3\" id=\"MUIDataTableBodyRow-3\"><td class=\"MuiTableCell-root MuiTableCell-body jss61 jss68 jss72\" data-colindex=\"0\" data-testid=\"MuiDataTableBodyCell-0-3\"><div class=\"jss61 jss62 jss65 jss66\">Code</div><div class=\"jss61 jss66\"><p>START79</p></div></td><td class=\"MuiTableCell-root MuiTableCell-body jss61 jss68 jss72 _name__cell_1qngn_439\" data-colindex=\"1\" data-testid=\"MuiDataTableBodyCell-1-3\"><div class=\"jss61 jss62 jss65 jss66 _name__cell_1qngn_439\">Name</div><div class=\"jss61 jss66 _name__cell_1qngn_439\"><a href=\"https://www.codechef.com/START79\"><span>Starters 79</span></a></div></td><td class=\"MuiTableCell-root MuiTableCell-body jss61 jss68 jss72 _start-data__cell_1qngn_442\" data-colindex=\"2\" data-testid=\"MuiDataTableBodyCell-2-3\"><div class=\"lastColumn jss61 jss62 jss65 jss66 _start-data__cell_1qngn_442\">Start</div><div class=\"jss61 jss66 _start-data__cell_1qngn_442\"><div><div class=\"_start-date__container_1qngn_388\"><p>01 Mar 2023</p><p class=\"_grey__text_1qngn_393\">Wed 20:00</p></div></div></div></td><td class=\"MuiTableCell-root MuiTableCell-body jss61 jss68 jss72\" data-colindex=\"3\" data-testid=\"MuiDataTableBodyCell-3-3\"><div class=\"jss61 jss62 jss65 jss66\">Duration</div><div class=\"jss61 jss66\"><div class=\"_duration__container_1qngn_396\"><p>3 Hrs</p></div></div></td><td class=\"MuiTableCell-root MuiTableCell-body jss61 jss68 jss72\" data-colindex=\"4\" data-testid=\"MuiDataTableBodyCell-4-3\"><div class=\"jss61 jss62 jss65 jss66\">Starts in</div><div class=\"jss61 jss66\"><div class=\"_timer__container_1qngn_518\"><p>26 Days</p><p>21 Hrs</p></div></div></td><td class=\"MuiTableCell-root MuiTableCell-body jss61 jss68 jss72 _reminder__cell_1qngn_445\" data-colindex=\"5\" data-testid=\"MuiDataTableBodyCell-5-3\"><div class=\"jss61 jss62 jss65 jss66 _reminder__cell_1qngn_445\"> </div><div class=\"jss61 jss66 _reminder__cell_1qngn_445\"><button class=\"_reminder-icon__container_1qngn_400\" title=\"Set Reminder\" type=\"button\"><img alt=\"bell\" src=\"https://cdn.codechef.com/images/icons/bell.svg\"/></button></div></td></tr><tr class=\"MuiTableRow-root jss57 undefined jss59 jss55 MuiTableRow-hover\" data-testid=\"MUIDataTableBodyRow-4\" id=\"MUIDataTableBodyRow-4\"><td class=\"MuiTableCell-root MuiTableCell-body jss61 jss68 jss72\" data-colindex=\"0\" data-testid=\"MuiDataTableBodyCell-0-4\"><div class=\"jss61 jss62 jss65 jss66\">Code</div><div class=\"jss61 jss66\"><p>START80</p></div></td><td class=\"MuiTableCell-root MuiTableCell-body jss61 jss68 jss72 _name__cell_1qngn_439\" data-colindex=\"1\" data-testid=\"MuiDataTableBodyCell-1-4\"><div class=\"jss61 jss62 jss65 jss66 _name__cell_1qngn_439\">Name</div><div class=\"jss61 jss66 _name__cell_1qngn_439\"><a href=\"https://www.codechef.com/START80\"><span>Starters 80</span></a></div></td><td class=\"MuiTableCell-root MuiTableCell-body jss61 jss68 jss72 _start-data__cell_1qngn_442\" data-colindex=\"2\" data-testid=\"MuiDataTableBodyCell-2-4\"><div class=\"lastColumn jss61 jss62 jss65 jss66 _start-data__cell_1qngn_442\">Start</div><div class=\"jss61 jss66 _start-data__cell_1qngn_442\"><div><div class=\"_start-date__container_1qngn_388\"><p>08 Mar 2023</p><p class=\"_grey__text_1qngn_393\">Wed 20:00</p></div></div></div></td><td class=\"MuiTableCell-root MuiTableCell-body jss61 jss68 jss72\" data-colindex=\"3\" data-testid=\"MuiDataTableBodyCell-3-4\"><div class=\"jss61 jss62 jss65 jss66\">Duration</div><div class=\"jss61 jss66\"><div class=\"_duration__container_1qngn_396\"><p>3 Hrs</p></div></div></td><td class=\"MuiTableCell-root MuiTableCell-body jss61 jss68 jss72\" data-colindex=\"4\" data-testid=\"MuiDataTableBodyCell-4-4\"><div class=\"jss61 jss62 jss65 jss66\">Starts in</div><div class=\"jss61 jss66\"><div class=\"_timer__container_1qngn_518\"><p>1 Months</p><p>3 Days</p></div></div></td><td class=\"MuiTableCell-root MuiTableCell-body jss61 jss68 jss72 _reminder__cell_1qngn_445\" data-colindex=\"5\" data-testid=\"MuiDataTableBodyCell-5-4\"><div class=\"jss61 jss62 jss65 jss66 _reminder__cell_1qngn_445\"> </div><div class=\"jss61 jss66 _reminder__cell_1qngn_445\"><button class=\"_reminder-icon__container_1qngn_400\" title=\"Set Reminder\" type=\"button\"><img alt=\"bell\" src=\"https://cdn.codechef.com/images/icons/bell.svg\"/></button></div></td></tr><tr class=\"MuiTableRow-root jss57 undefined jss59 jss55 MuiTableRow-hover\" data-testid=\"MUIDataTableBodyRow-5\" id=\"MUIDataTableBodyRow-5\"><td class=\"MuiTableCell-root MuiTableCell-body jss61 jss68 jss72\" data-colindex=\"0\" data-testid=\"MuiDataTableBodyCell-0-5\"><div class=\"jss61 jss62 jss65 jss66\">Code</div><div class=\"jss61 jss66\"><p>START81</p></div></td><td class=\"MuiTableCell-root MuiTableCell-body jss61 jss68 jss72 _name__cell_1qngn_439\" data-colindex=\"1\" data-testid=\"MuiDataTableBodyCell-1-5\"><div class=\"jss61 jss62 jss65 jss66 _name__cell_1qngn_439\">Name</div><div class=\"jss61 jss66 _name__cell_1qngn_439\"><a href=\"https://www.codechef.com/START81\"><span>Starters 81</span></a></div></td><td class=\"MuiTableCell-root MuiTableCell-body jss61 jss68 jss72 _start-data__cell_1qngn_442\" data-colindex=\"2\" data-testid=\"MuiDataTableBodyCell-2-5\"><div class=\"lastColumn jss61 jss62 jss65 jss66 _start-data__cell_1qngn_442\">Start</div><div class=\"jss61 jss66 _start-data__cell_1qngn_442\"><div><div class=\"_start-date__container_1qngn_388\"><p>15 Mar 2023</p><p class=\"_grey__text_1qngn_393\">Wed 20:00</p></div></div></div></td><td class=\"MuiTableCell-root MuiTableCell-body jss61 jss68 jss72\" data-colindex=\"3\" data-testid=\"MuiDataTableBodyCell-3-5\"><div class=\"jss61 jss62 jss65 jss66\">Duration</div><div class=\"jss61 jss66\"><div class=\"_duration__container_1qngn_396\"><p>3 Hrs</p></div></div></td><td class=\"MuiTableCell-root MuiTableCell-body jss61 jss68 jss72\" data-colindex=\"4\" data-testid=\"MuiDataTableBodyCell-4-5\"><div class=\"jss61 jss62 jss65 jss66\">Starts in</div><div class=\"jss61 jss66\"><div class=\"_timer__container_1qngn_518\"><p>1 Months</p><p>10 Days</p></div></div></td><td class=\"MuiTableCell-root MuiTableCell-body jss61 jss68 jss72 _reminder__cell_1qngn_445\" data-colindex=\"5\" data-testid=\"MuiDataTableBodyCell-5-5\"><div class=\"jss61 jss62 jss65 jss66 _reminder__cell_1qngn_445\"> </div><div class=\"jss61 jss66 _reminder__cell_1qngn_445\"><button class=\"_reminder-icon__container_1qngn_400\" title=\"Set Reminder\" type=\"button\"><img alt=\"bell\" src=\"https://cdn.codechef.com/images/icons/bell.svg\"/></button></div></td></tr><tr class=\"MuiTableRow-root jss57 undefined jss59 jss55 MuiTableRow-hover\" data-testid=\"MUIDataTableBodyRow-6\" id=\"MUIDataTableBodyRow-6\"><td class=\"MuiTableCell-root MuiTableCell-body jss61 jss68 jss72\" data-colindex=\"0\" data-testid=\"MuiDataTableBodyCell-0-6\"><div class=\"jss61 jss62 jss65 jss66\">Code</div><div class=\"jss61 jss66\"><p>START82</p></div></td><td class=\"MuiTableCell-root MuiTableCell-body jss61 jss68 jss72 _name__cell_1qngn_439\" data-colindex=\"1\" data-testid=\"MuiDataTableBodyCell-1-6\"><div class=\"jss61 jss62 jss65 jss66 _name__cell_1qngn_439\">Name</div><div class=\"jss61 jss66 _name__cell_1qngn_439\"><a href=\"https://www.codechef.com/START82\"><span>Starters 82</span></a></div></td><td class=\"MuiTableCell-root MuiTableCell-body jss61 jss68 jss72 _start-data__cell_1qngn_442\" data-colindex=\"2\" data-testid=\"MuiDataTableBodyCell-2-6\"><div class=\"lastColumn jss61 jss62 jss65 jss66 _start-data__cell_1qngn_442\">Start</div><div class=\"jss61 jss66 _start-data__cell_1qngn_442\"><div><div class=\"_start-date__container_1qngn_388\"><p>22 Mar 2023</p><p class=\"_grey__text_1qngn_393\">Wed 20:00</p></div></div></div></td><td class=\"MuiTableCell-root MuiTableCell-body jss61 jss68 jss72\" data-colindex=\"3\" data-testid=\"MuiDataTableBodyCell-3-6\"><div class=\"jss61 jss62 jss65 jss66\">Duration</div><div class=\"jss61 jss66\"><div class=\"_duration__container_1qngn_396\"><p>3 Hrs</p></div></div></td><td class=\"MuiTableCell-root MuiTableCell-body jss61 jss68 jss72\" data-colindex=\"4\" data-testid=\"MuiDataTableBodyCell-4-6\"><div class=\"jss61 jss62 jss65 jss66\">Starts in</div><div class=\"jss61 jss66\"><div class=\"_timer__container_1qngn_518\"><p>1 Months</p><p>17 Days</p></div></div></td><td class=\"MuiTableCell-root MuiTableCell-body jss61 jss68 jss72 _reminder__cell_1qngn_445\" data-colindex=\"5\" data-testid=\"MuiDataTableBodyCell-5-6\"><div class=\"jss61 jss62 jss65 jss66 _reminder__cell_1qngn_445\"> </div><div class=\"jss61 jss66 _reminder__cell_1qngn_445\"><button class=\"_reminder-icon__container_1qngn_400\" title=\"Set Reminder\" type=\"button\"><img alt=\"bell\" src=\"https://cdn.codechef.com/images/icons/bell.svg\"/></button></div></td></tr><tr class=\"MuiTableRow-root jss57 undefined jss59 jss55 MuiTableRow-hover\" data-testid=\"MUIDataTableBodyRow-7\" id=\"MUIDataTableBodyRow-7\"><td class=\"MuiTableCell-root MuiTableCell-body jss61 jss68 jss72\" data-colindex=\"0\" data-testid=\"MuiDataTableBodyCell-0-7\"><div class=\"jss61 jss62 jss65 jss66\">Code</div><div class=\"jss61 jss66\"><p>START83</p></div></td><td class=\"MuiTableCell-root MuiTableCell-body jss61 jss68 jss72 _name__cell_1qngn_439\" data-colindex=\"1\" data-testid=\"MuiDataTableBodyCell-1-7\"><div class=\"jss61 jss62 jss65 jss66 _name__cell_1qngn_439\">Name</div><div class=\"jss61 jss66 _name__cell_1qngn_439\"><a href=\"https://www.codechef.com/START83\"><span>Starters 83</span></a></div></td><td class=\"MuiTableCell-root MuiTableCell-body jss61 jss68 jss72 _start-data__cell_1qngn_442\" data-colindex=\"2\" data-testid=\"MuiDataTableBodyCell-2-7\"><div class=\"lastColumn jss61 jss62 jss65 jss66 _start-data__cell_1qngn_442\">Start</div><div class=\"jss61 jss66 _start-data__cell_1qngn_442\"><div><div class=\"_start-date__container_1qngn_388\"><p>29 Mar 2023</p><p class=\"_grey__text_1qngn_393\">Wed 20:00</p></div></div></div></td><td class=\"MuiTableCell-root MuiTableCell-body jss61 jss68 jss72\" data-colindex=\"3\" data-testid=\"MuiDataTableBodyCell-3-7\"><div class=\"jss61 jss62 jss65 jss66\">Duration</div><div class=\"jss61 jss66\"><div class=\"_duration__container_1qngn_396\"><p>3 Hrs</p></div></div></td><td class=\"MuiTableCell-root MuiTableCell-body jss61 jss68 jss72\" data-colindex=\"4\" data-testid=\"MuiDataTableBodyCell-4-7\"><div class=\"jss61 jss62 jss65 jss66\">Starts in</div><div class=\"jss61 jss66\"><div class=\"_timer__container_1qngn_518\"><p>1 Months</p><p>24 Days</p></div></div></td><td class=\"MuiTableCell-root MuiTableCell-body jss61 jss68 jss72 _reminder__cell_1qngn_445\" data-colindex=\"5\" data-testid=\"MuiDataTableBodyCell-5-7\"><div class=\"jss61 jss62 jss65 jss66 _reminder__cell_1qngn_445\"> </div><div class=\"jss61 jss66 _reminder__cell_1qngn_445\"><button class=\"_reminder-icon__container_1qngn_400\" title=\"Set Reminder\" type=\"button\"><img alt=\"bell\" src=\"https://cdn.codechef.com/images/icons/bell.svg\"/></button></div></td></tr></tbody>"
      ]
     },
     "execution_count": 6,
     "metadata": {},
     "output_type": "execute_result"
    }
   ],
   "source": []
  },
  {
   "cell_type": "code",
   "execution_count": 29,
   "id": "81a905e5",
   "metadata": {},
   "outputs": [
    {
     "name": "stdout",
     "output_type": "stream",
     "text": [
      "COOK146 February Cook-Off 2023 (Rated for All) https://www.codechef.com/COOK146 1675866600 2 Hrs30 Min\n",
      "START77 Starters 77 https://www.codechef.com/START77 1676471400 3 Hrs\n",
      "START78 Starters 78 https://www.codechef.com/START78 1677076200 3 Hrs\n",
      "START79 Starters 79 https://www.codechef.com/START79 1677681000 3 Hrs\n",
      "START80 Starters 80 https://www.codechef.com/START80 1678285800 3 Hrs\n",
      "START81 Starters 81 https://www.codechef.com/START81 1678890600 3 Hrs\n",
      "START82 Starters 82 https://www.codechef.com/START82 1679495400 3 Hrs\n",
      "START83 Starters 83 https://www.codechef.com/START83 1680100200 3 Hrs\n"
     ]
    }
   ],
   "source": [
    "#TODO: Use get_text() to remove some of this filth\n",
    "for row in upcoming:\n",
    "    col = row.find_all(\"td\")\n",
    "    code = col[0].find(\"div\", \"jss61 jss66\").string\n",
    "    name = col[1].find(\"div\", \"jss61 jss66 _name__cell_1qngn_439\").string\n",
    "    link = name.parent.parent.get(\"href\")\n",
    "    \n",
    "    datetime_list = col[2].find(\"div\", \"jss61 jss66 _start-data__cell_1qngn_442\").div.div.find_all(\"p\")\n",
    "    date = datetime_list[0].string\n",
    "    hour_min = datetime_list[1].string #TODO: strip 'day' from str\n",
    "    dt_fmt = \"%d %b %Y%a %H:%M\"\n",
    "    dt_raw = date + hour_min\n",
    "    dt = datetime.datetime.strptime(dt_raw, dt_fmt)\n",
    "    start_time = int(time.mktime(dt.timetuple()))\n",
    "    \n",
    "    duration = col[3].find(\"div\", \"jss61 jss66\").get_text()  #TODO: strip \" Hrs\" from str\n",
    "    print(f'{code} {name} {link} {start_time} {duration}')"
   ]
  },
  {
   "cell_type": "code",
   "execution_count": null,
   "id": "49e2c81b",
   "metadata": {},
   "outputs": [],
   "source": []
  },
  {
   "cell_type": "code",
   "execution_count": null,
   "id": "c1700bda",
   "metadata": {},
   "outputs": [],
   "source": []
  }
 ],
 "metadata": {
  "kernelspec": {
   "display_name": "Python 3 (ipykernel)",
   "language": "python",
   "name": "python3"
  },
  "language_info": {
   "codemirror_mode": {
    "name": "ipython",
    "version": 3
   },
   "file_extension": ".py",
   "mimetype": "text/x-python",
   "name": "python",
   "nbconvert_exporter": "python",
   "pygments_lexer": "ipython3",
   "version": "3.10.8"
  }
 },
 "nbformat": 4,
 "nbformat_minor": 5
}
